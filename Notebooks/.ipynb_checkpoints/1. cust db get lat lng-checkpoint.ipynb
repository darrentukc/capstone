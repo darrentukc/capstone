{
 "cells": [
  {
   "cell_type": "code",
   "execution_count": 1,
   "id": "84c39dce-91d8-4d1d-a60e-dd67240e3cca",
   "metadata": {},
   "outputs": [],
   "source": [
    "import requests\n",
    "import json\n",
    "import urllib\n",
    "import pandas as pd\n",
    "import numpy as np\n",
    "import matplotlib.pyplot as plt"
   ]
  },
  {
   "cell_type": "code",
   "execution_count": 2,
   "id": "83ecf87c-c0da-4c5e-972d-2507c1ae7428",
   "metadata": {},
   "outputs": [],
   "source": [
    "df = pd.read_csv('../data/contacts_compiled_sample.csv') # import sample contact list"
   ]
  },
  {
   "cell_type": "code",
   "execution_count": 3,
   "id": "47347c59-fb11-4215-a991-33a5bc823e28",
   "metadata": {},
   "outputs": [],
   "source": [
    "df_old = df # backup dataframe"
   ]
  },
  {
   "cell_type": "code",
   "execution_count": 4,
   "id": "c5d817b6-6fc6-461e-9908-98128aaf1b5a",
   "metadata": {},
   "outputs": [],
   "source": [
    "# lowercase all names\n",
    "\n",
    "df['Name'] = df['Name'].str.lower() "
   ]
  },
  {
   "cell_type": "code",
   "execution_count": 5,
   "id": "f9f643e7-0b77-4341-bbdd-1d52ad31bc97",
   "metadata": {},
   "outputs": [
    {
     "data": {
      "text/html": [
       "<div>\n",
       "<style scoped>\n",
       "    .dataframe tbody tr th:only-of-type {\n",
       "        vertical-align: middle;\n",
       "    }\n",
       "\n",
       "    .dataframe tbody tr th {\n",
       "        vertical-align: top;\n",
       "    }\n",
       "\n",
       "    .dataframe thead th {\n",
       "        text-align: right;\n",
       "    }\n",
       "</style>\n",
       "<table border=\"1\" class=\"dataframe\">\n",
       "  <thead>\n",
       "    <tr style=\"text-align: right;\">\n",
       "      <th></th>\n",
       "      <th>Name</th>\n",
       "      <th>Given Name</th>\n",
       "      <th>Additional Name</th>\n",
       "      <th>Family Name</th>\n",
       "      <th>driver</th>\n",
       "    </tr>\n",
       "  </thead>\n",
       "  <tbody>\n",
       "    <tr>\n",
       "      <th>0</th>\n",
       "      <td>10 north bridge road, singapore</td>\n",
       "      <td>10</td>\n",
       "      <td>North Bridge Road</td>\n",
       "      <td>#02-5123</td>\n",
       "      <td>6964</td>\n",
       "    </tr>\n",
       "    <tr>\n",
       "      <th>1</th>\n",
       "      <td>10 woodlands terrace, singapore</td>\n",
       "      <td>NaN</td>\n",
       "      <td>NaN</td>\n",
       "      <td>NaN</td>\n",
       "      <td>depot</td>\n",
       "    </tr>\n",
       "    <tr>\n",
       "      <th>2</th>\n",
       "      <td>105 hougang avenue 1, singapore</td>\n",
       "      <td>HG 105 AMK</td>\n",
       "      <td>527</td>\n",
       "      <td>Pancake</td>\n",
       "      <td>6964</td>\n",
       "    </tr>\n",
       "    <tr>\n",
       "      <th>3</th>\n",
       "      <td>107 tampines street 11, singapore</td>\n",
       "      <td>Tpn</td>\n",
       "      <td>107</td>\n",
       "      <td>Boss</td>\n",
       "      <td>6964</td>\n",
       "    </tr>\n",
       "    <tr>\n",
       "      <th>4</th>\n",
       "      <td>107a clementi street 12, singapore</td>\n",
       "      <td>Clementi 107a Rojak</td>\n",
       "      <td>NaN</td>\n",
       "      <td>Clementi St 12</td>\n",
       "      <td>856</td>\n",
       "    </tr>\n",
       "  </tbody>\n",
       "</table>\n",
       "</div>"
      ],
      "text/plain": [
       "                                 Name           Given Name    Additional Name  \\\n",
       "0     10 north bridge road, singapore                   10  North Bridge Road   \n",
       "1     10 woodlands terrace, singapore                  NaN                NaN   \n",
       "2     105 hougang avenue 1, singapore           HG 105 AMK                527   \n",
       "3   107 tampines street 11, singapore                  Tpn                107   \n",
       "4  107a clementi street 12, singapore  Clementi 107a Rojak                NaN   \n",
       "\n",
       "      Family Name driver  \n",
       "0        #02-5123   6964  \n",
       "1             NaN  depot  \n",
       "2         Pancake   6964  \n",
       "3            Boss   6964  \n",
       "4  Clementi St 12    856  "
      ]
     },
     "execution_count": 5,
     "metadata": {},
     "output_type": "execute_result"
    }
   ],
   "source": [
    "df.head()"
   ]
  },
  {
   "cell_type": "code",
   "execution_count": 9,
   "id": "1fe5d139-a366-466b-ad2f-934c015f3157",
   "metadata": {},
   "outputs": [],
   "source": [
    "# loop to get coordinates of addresses, and add to df\n",
    "# try and except to skip addresses that are invalid, and input their coordinates as None\n",
    "\n",
    "base_url = 'https://maps.googleapis.com/maps/api/geocode/json?'\n",
    "AUTH_KEY = #### insert auth key\n",
    "    \n",
    "for x in range(len(df)):\n",
    "    parameters = {'address': df.loc[x, 'Name'],\n",
    "                  'key': AUTH_KEY}\n",
    "    try:\n",
    "        r = requests.get(f'{base_url}{urllib.parse.urlencode(parameters)}')\n",
    "        data = json.loads(r.content)\n",
    "        lat =  data['results'][0]['geometry']['location']['lat']\n",
    "        lng = data['results'][0]['geometry']['location']['lng']\n",
    "        df.loc[x, 'Lat'] = lat\n",
    "        df.loc[x, 'Lng'] = lng\n",
    "    except:\n",
    "        df.loc[x, 'Lat'] = None\n",
    "        df.loc[x, 'Lng'] = None\n"
   ]
  },
  {
   "cell_type": "code",
   "execution_count": 10,
   "id": "d78c3cc0-4118-4c6a-91d0-ffba56b2401d",
   "metadata": {},
   "outputs": [],
   "source": [
    "# saving df filled with coordinates into csv file for other codebook\n",
    "\n",
    "df_lat_lng = pd.DataFrame()\n",
    "df.to_csv('../data/df_lat_lng.csv', index = False)"
   ]
  }
 ],
 "metadata": {
  "kernelspec": {
   "display_name": "Python 3 (ipykernel)",
   "language": "python",
   "name": "python3"
  },
  "language_info": {
   "codemirror_mode": {
    "name": "ipython",
    "version": 3
   },
   "file_extension": ".py",
   "mimetype": "text/x-python",
   "name": "python",
   "nbconvert_exporter": "python",
   "pygments_lexer": "ipython3",
   "version": "3.9.10"
  }
 },
 "nbformat": 4,
 "nbformat_minor": 5
}
