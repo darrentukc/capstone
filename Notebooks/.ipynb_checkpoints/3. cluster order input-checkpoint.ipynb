{
 "cells": [
  {
   "cell_type": "code",
   "execution_count": 1,
   "id": "f6acc4ac-b559-4fda-ab3f-c707cdbd2f14",
   "metadata": {},
   "outputs": [],
   "source": [
    "import pandas as pd\n",
    "import numpy as np\n",
    "import requests\n",
    "import folium\n",
    "import polyline\n",
    "import urllib\n",
    "import matplotlib.pyplot as plt\n",
    "import seaborn as sns\n",
    "import time\n",
    "import math\n",
    "import json\n",
    "import pickle\n",
    "from branca.element import Figure\n",
    "from sklearn.cluster import KMeans\n",
    "from geopy import distance"
   ]
  },
  {
   "cell_type": "code",
   "execution_count": 2,
   "id": "c1cb2bcd-5615-4fb8-8140-59ff42aea1b5",
   "metadata": {},
   "outputs": [
    {
     "name": "stdout",
     "output_type": "stream",
     "text": [
      "Stored 'available_vehicles' (int)\n"
     ]
    }
   ],
   "source": [
    "# set number of vehicles and store for use across notebooks\n",
    "\n",
    "available_vehicles = 4\n",
    "%store available_vehicles"
   ]
  },
  {
   "cell_type": "code",
   "execution_count": 3,
   "id": "b2652fd8-6056-41b8-b34d-073395cc2bdf",
   "metadata": {},
   "outputs": [],
   "source": [
    "# set daily orders in ./data/order_for_today.csv and generate sample_daily_order list\n",
    "\n",
    "order_for_today = pd.read_csv('../data/order_for_today.csv')\n",
    "sample_daily_order = order_for_today['0'].tolist()"
   ]
  },
  {
   "cell_type": "code",
   "execution_count": 5,
   "id": "2de592b3-15b6-44b3-b035-89d6255ba8de",
   "metadata": {},
   "outputs": [
    {
     "data": {
      "text/html": [
       "<div>\n",
       "<style scoped>\n",
       "    .dataframe tbody tr th:only-of-type {\n",
       "        vertical-align: middle;\n",
       "    }\n",
       "\n",
       "    .dataframe tbody tr th {\n",
       "        vertical-align: top;\n",
       "    }\n",
       "\n",
       "    .dataframe thead th {\n",
       "        text-align: right;\n",
       "    }\n",
       "</style>\n",
       "<table border=\"1\" class=\"dataframe\">\n",
       "  <thead>\n",
       "    <tr style=\"text-align: right;\">\n",
       "      <th></th>\n",
       "      <th>Unnamed: 0</th>\n",
       "      <th>0</th>\n",
       "    </tr>\n",
       "  </thead>\n",
       "  <tbody>\n",
       "    <tr>\n",
       "      <th>0</th>\n",
       "      <td>0</td>\n",
       "      <td>107 tampines street 11, singapore</td>\n",
       "    </tr>\n",
       "    <tr>\n",
       "      <th>1</th>\n",
       "      <td>1</td>\n",
       "      <td>107a clementi street 12, singapore</td>\n",
       "    </tr>\n",
       "    <tr>\n",
       "      <th>2</th>\n",
       "      <td>2</td>\n",
       "      <td>116 aljunied, singapore</td>\n",
       "    </tr>\n",
       "    <tr>\n",
       "      <th>3</th>\n",
       "      <td>3</td>\n",
       "      <td>118a canberra cres, singapore</td>\n",
       "    </tr>\n",
       "    <tr>\n",
       "      <th>4</th>\n",
       "      <td>4</td>\n",
       "      <td>119 aljunied, singapore</td>\n",
       "    </tr>\n",
       "    <tr>\n",
       "      <th>...</th>\n",
       "      <td>...</td>\n",
       "      <td>...</td>\n",
       "    </tr>\n",
       "    <tr>\n",
       "      <th>76</th>\n",
       "      <td>76</td>\n",
       "      <td>beauty world centre, singapore</td>\n",
       "    </tr>\n",
       "    <tr>\n",
       "      <th>77</th>\n",
       "      <td>77</td>\n",
       "      <td>bedok food centre, singapore</td>\n",
       "    </tr>\n",
       "    <tr>\n",
       "      <th>78</th>\n",
       "      <td>78</td>\n",
       "      <td>biomedical grove, singapore</td>\n",
       "    </tr>\n",
       "    <tr>\n",
       "      <th>79</th>\n",
       "      <td>79</td>\n",
       "      <td>chomp chomp food centre, singapore</td>\n",
       "    </tr>\n",
       "    <tr>\n",
       "      <th>80</th>\n",
       "      <td>80</td>\n",
       "      <td>east coast lagoon food village, singapore</td>\n",
       "    </tr>\n",
       "  </tbody>\n",
       "</table>\n",
       "<p>81 rows × 2 columns</p>\n",
       "</div>"
      ],
      "text/plain": [
       "    Unnamed: 0                                          0\n",
       "0            0          107 tampines street 11, singapore\n",
       "1            1         107a clementi street 12, singapore\n",
       "2            2                    116 aljunied, singapore\n",
       "3            3              118a canberra cres, singapore\n",
       "4            4                    119 aljunied, singapore\n",
       "..         ...                                        ...\n",
       "76          76             beauty world centre, singapore\n",
       "77          77               bedok food centre, singapore\n",
       "78          78                biomedical grove, singapore\n",
       "79          79         chomp chomp food centre, singapore\n",
       "80          80  east coast lagoon food village, singapore\n",
       "\n",
       "[81 rows x 2 columns]"
      ]
     },
     "execution_count": 5,
     "metadata": {},
     "output_type": "execute_result"
    }
   ],
   "source": [
    "order_for_today"
   ]
  },
  {
   "cell_type": "code",
   "execution_count": 6,
   "id": "4cf988ed-6946-4f28-9706-7f143bda9f25",
   "metadata": {},
   "outputs": [],
   "source": [
    "# import lat lng df\n",
    "\n",
    "df_lat_lng = pd.read_csv('../data/df_lat_lng.csv')"
   ]
  },
  {
   "cell_type": "code",
   "execution_count": 7,
   "id": "6ae14797-7093-4935-ab32-b3924e7108c4",
   "metadata": {},
   "outputs": [],
   "source": [
    "# create new df for sample_daily_order \n",
    "\n",
    "daily_order_df = df_lat_lng[df_lat_lng['Name'].isin(sample_daily_order)]"
   ]
  },
  {
   "cell_type": "code",
   "execution_count": 8,
   "id": "698893f6-84ba-4030-aeec-9d38068d51b0",
   "metadata": {},
   "outputs": [
    {
     "name": "stderr",
     "output_type": "stream",
     "text": [
      "C:\\Users\\Darre\\AppData\\Local\\Temp\\ipykernel_29212\\4051312100.py:7: SettingWithCopyWarning: \n",
      "A value is trying to be set on a copy of a slice from a DataFrame.\n",
      "Try using .loc[row_indexer,col_indexer] = value instead\n",
      "\n",
      "See the caveats in the documentation: https://pandas.pydata.org/pandas-docs/stable/user_guide/indexing.html#returning-a-view-versus-a-copy\n",
      "  daily_order_df['cluster'] = kmeans.labels_\n"
     ]
    }
   ],
   "source": [
    "# cluster\n",
    "\n",
    "X = daily_order_df[['Lat', 'Lng']]\n",
    "\n",
    "kmeans = KMeans(n_clusters = available_vehicles, random_state = 42)\n",
    "kmeans.fit(X)\n",
    "daily_order_df['cluster'] = kmeans.labels_"
   ]
  },
  {
   "cell_type": "code",
   "execution_count": 9,
   "id": "6ce07d52-2951-4b8e-b546-f222918b3e64",
   "metadata": {},
   "outputs": [],
   "source": [
    "# saving daily_order_df_clustered to csv\n",
    "\n",
    "daily_order_df.to_csv('../data/daily_order_df_clustered.csv', index = False)"
   ]
  }
 ],
 "metadata": {
  "kernelspec": {
   "display_name": "Python 3 (ipykernel)",
   "language": "python",
   "name": "python3"
  },
  "language_info": {
   "codemirror_mode": {
    "name": "ipython",
    "version": 3
   },
   "file_extension": ".py",
   "mimetype": "text/x-python",
   "name": "python",
   "nbconvert_exporter": "python",
   "pygments_lexer": "ipython3",
   "version": "3.9.10"
  }
 },
 "nbformat": 4,
 "nbformat_minor": 5
}
