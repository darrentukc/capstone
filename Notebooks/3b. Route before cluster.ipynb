{
 "cells": [
  {
   "cell_type": "code",
   "execution_count": 1,
   "id": "33732f83-a5b7-48c4-a7b2-f99a91336578",
   "metadata": {},
   "outputs": [],
   "source": [
    "import pandas as pd\n",
    "import numpy as np\n",
    "import requests\n",
    "import folium\n",
    "import polyline\n",
    "import urllib\n",
    "import matplotlib.pyplot as plt\n",
    "import seaborn as sns\n",
    "import time\n",
    "import math\n",
    "import json\n",
    "from branca.element import Figure\n",
    "from sklearn.cluster import KMeans\n",
    "from geopy import distance"
   ]
  },
  {
   "cell_type": "code",
   "execution_count": 2,
   "id": "8c13facd-36d6-43cf-97a5-5a88d65c4a18",
   "metadata": {},
   "outputs": [],
   "source": [
    "# retrieve number of vehicles from previous notebook\n",
    "%store -r available_vehicles "
   ]
  },
  {
   "cell_type": "code",
   "execution_count": 3,
   "id": "d9600911-2579-4fb5-b603-ae3f69e63bc1",
   "metadata": {},
   "outputs": [
    {
     "data": {
      "text/plain": [
       "4"
      ]
     },
     "execution_count": 3,
     "metadata": {},
     "output_type": "execute_result"
    }
   ],
   "source": [
    "available_vehicles"
   ]
  },
  {
   "cell_type": "code",
   "execution_count": 4,
   "id": "f678bbe4-5ec9-49dd-a3a7-e60d752d4ef9",
   "metadata": {},
   "outputs": [],
   "source": [
    "# set daily orders in ./data/order_for_today.csv and generate sample_daily_order list\n",
    "\n",
    "order_for_today = pd.read_csv('../data/order_for_today.csv')\n",
    "sample_daily_order = order_for_today['0'].tolist()"
   ]
  },
  {
   "cell_type": "code",
   "execution_count": 5,
   "id": "d67dfa17-6b04-49eb-955d-a8b4dec6edc2",
   "metadata": {},
   "outputs": [
    {
     "data": {
      "text/plain": [
       "81"
      ]
     },
     "execution_count": 5,
     "metadata": {},
     "output_type": "execute_result"
    }
   ],
   "source": [
    "# api can only handle 100 locations\n",
    "\n",
    "sample_daily_order = sample_daily_order[:80]\n",
    "sample_daily_order.append('10 woodlands terrace, singapore')\n",
    "len(sample_daily_order)"
   ]
  },
  {
   "cell_type": "code",
   "execution_count": 6,
   "id": "f8f16dfd-69a1-471d-96b7-1a19b9a3d493",
   "metadata": {},
   "outputs": [],
   "source": [
    "# import df_lat_lng for coordinates\n",
    "\n",
    "df_lat_lng = pd.read_csv('../data/df_lat_lng.csv')"
   ]
  },
  {
   "cell_type": "code",
   "execution_count": 7,
   "id": "27d81f90-f26e-4a07-ae74-083c37bb86c8",
   "metadata": {},
   "outputs": [],
   "source": [
    "# import distance_matrix\n",
    "\n",
    "distance_matrix = pd.read_csv('../data/distance_array.csv')\n",
    "distance_matrix.set_index(keys = 'Unnamed: 0', inplace = True) # setting name as index"
   ]
  },
  {
   "cell_type": "code",
   "execution_count": 8,
   "id": "d764fc06-a5ce-4faf-8fb0-fb9a6c4e8967",
   "metadata": {},
   "outputs": [],
   "source": [
    "# create new df for sample daily order \n",
    "\n",
    "sample_daily_order_df = pd.DataFrame(index = sample_daily_order)"
   ]
  },
  {
   "cell_type": "code",
   "execution_count": 9,
   "id": "ea35dcfe-7d68-428e-9aa0-4183ff400285",
   "metadata": {},
   "outputs": [],
   "source": [
    "# concat sample_daily_order_df with distance_matrix\n",
    "\n",
    "sample_daily_order_df = pd.concat([sample_daily_order_df, distance_matrix], axis=1).reindex(sample_daily_order_df.index)"
   ]
  },
  {
   "cell_type": "code",
   "execution_count": 10,
   "id": "25929f8d-6af6-4502-a6f0-1d0db8a5c296",
   "metadata": {},
   "outputs": [],
   "source": [
    "sample_daily_order_ordered = []"
   ]
  },
  {
   "cell_type": "code",
   "execution_count": 11,
   "id": "5943be59-1fa1-4365-841b-991939dd4fc5",
   "metadata": {},
   "outputs": [],
   "source": [
    "for i in range(len(sample_daily_order)):\n",
    "    try:\n",
    "        if i == 0:\n",
    "            sample_daily_order_ordered.append('10 woodlands terrace, singapore')\n",
    "            sample_daily_order_df.drop(index = '10 woodlands terrace, singapore', inplace = True)\n",
    "            next_location = sample_daily_order_df['10 woodlands terrace, singapore'].sort_values().index.tolist()[0]\n",
    "        else:\n",
    "            current_location = next_location\n",
    "            sample_daily_order_ordered.append(current_location)\n",
    "            sample_daily_order_df.drop(index = current_location, inplace = True)\n",
    "            next_location = sample_daily_order_df[current_location].sort_values().index.tolist()[0]\n",
    "    except:\n",
    "        pass\n",
    "        \n",
    "        "
   ]
  },
  {
   "cell_type": "code",
   "execution_count": 12,
   "id": "3b86bf07-5afc-45b4-a679-fa7ce8a8dc44",
   "metadata": {
    "tags": []
   },
   "outputs": [
    {
     "data": {
      "text/plain": [
       "['10 woodlands terrace, singapore',\n",
       " '334 sembawang close, singapore',\n",
       " '118a canberra cres, singapore',\n",
       " '848 yishun street 81, singapore',\n",
       " '632 ang mo kio ave 4, singapore',\n",
       " '631 ang mo kio avenue 4, singapore',\n",
       " '505 ang mo kio street 53, singapore',\n",
       " '530 ang mo kio avenue 10, singapore',\n",
       " '339 ang mo kio ave 1, singapore',\n",
       " '453 ang mo kio avenue 1, singapore',\n",
       " '284 bishan street 22, singapore',\n",
       " '511 bishan street 13, singapore',\n",
       " '504 bishan street 13, singapore',\n",
       " '210 toa payoh lorong 8, singapore',\n",
       " '22a lorong 7 toa payoh, singapore',\n",
       " '29 bendemeer road, singapore',\n",
       " '17 upper boon keng road, singapore',\n",
       " '116 aljunied, singapore',\n",
       " '119 aljunied, singapore',\n",
       " '89 circuit road, singapore',\n",
       " '121 paya lebar way, singapore',\n",
       " '3014 ubi road 1, singapore',\n",
       " '210 hougang street 21, singapore',\n",
       " 'chomp chomp food centre, singapore',\n",
       " '4 cardiff grove, singapore',\n",
       " '631 hougang ave 8, singapore',\n",
       " '682 hougang ave 8, singapore',\n",
       " '923 hougang street 91, singapore',\n",
       " '2 jalan selaseh, singapore',\n",
       " '266 sengkang west avenue, singapore',\n",
       " '350a anchorvale rd, singapore',\n",
       " '356 hougang avenue 7, singapore',\n",
       " '226d ang mo kio avenue 1, singapore',\n",
       " '162 ang mo kio avenue 4, singapore',\n",
       " '76 newton circus, singapore',\n",
       " '90 whampoa drive, singapore',\n",
       " '91 whampoa drive, singapore',\n",
       " '146 silat road, singapore',\n",
       " '2 bukit merah central, singapore',\n",
       " '163 bukit merah central, singapore',\n",
       " 'abc brickworks, singapore',\n",
       " '127 bukit merah lane 1, singapore',\n",
       " '152 mei ling street, singapore',\n",
       " '15b lor liput, singapore',\n",
       " '20 ghim moh road market & food centre, singapore',\n",
       " '19 ghim moh road, singapore',\n",
       " '29 dover crescent, singapore',\n",
       " 'biomedical grove, singapore',\n",
       " '354 clement ave 2, singapore',\n",
       " '107a clementi street 12, singapore',\n",
       " '433 clement ave 3, singapore',\n",
       " '443 clementi ave 3, singapore',\n",
       " '406 pandan gardens, singapore',\n",
       " '134 jurnog gateway road, singapore',\n",
       " '347 jurong east avenue 1, singapore',\n",
       " '329 jurong east ave 1, singapore',\n",
       " '498 jurong west street 41, singapore',\n",
       " '449 jurong west street 42, singapore',\n",
       " '640 bukit batok central, singapore',\n",
       " '283 bukit batok east ave 3, singapore',\n",
       " '273 bukit batok east avenue 4, singapore',\n",
       " '271 bukit batok east ave 4, singapore',\n",
       " '155 bukit batok street 31, singapore',\n",
       " '156 bukit batok street 31, singapore',\n",
       " '163 gangsaa road, singapore',\n",
       " '276 bangkit road, singapore',\n",
       " '686c choa chu kang cres, singapore',\n",
       " '678 choa chu kang cres, singapore',\n",
       " 'beauty world centre, singapore',\n",
       " '26 chai chee road, singapore',\n",
       " '418 bedok north avenue 2, singapore',\n",
       " '537 bedok north street 3, singapore',\n",
       " '3016 bedok north avenue 4, singapore',\n",
       " '77 bedok north road, singapore',\n",
       " 'bedok food centre, singapore',\n",
       " '38 tampines street 11, singapore',\n",
       " '107 tampines street 11, singapore',\n",
       " '802 tampines avenue 4, singapore',\n",
       " '823 tampines street 81, singapore',\n",
       " '823a tampines street 81, singapore',\n",
       " '58 bedok north street 3, singapore']"
      ]
     },
     "execution_count": 12,
     "metadata": {},
     "output_type": "execute_result"
    }
   ],
   "source": [
    "sample_daily_order_ordered"
   ]
  },
  {
   "cell_type": "code",
   "execution_count": 13,
   "id": "0fe424ae-48ab-4294-85a2-52db710a0705",
   "metadata": {},
   "outputs": [],
   "source": [
    "sample_daily_order_nested = []\n",
    "location_per_vehicle = (len(sample_daily_order_ordered)- (len(sample_daily_order_ordered) % available_vehicles)) / available_vehicles\n",
    "\n",
    "for vehicle in range(available_vehicles + 1):\n",
    "    if vehicle == 0:\n",
    "        start = int(vehicle)\n",
    "        end = int(location_per_vehicle - 1)\n",
    "        sample_daily_order_nested.append(sample_daily_order_ordered[start:end])\n",
    "    else:\n",
    "        start = int(vehicle * location_per_vehicle)\n",
    "        end = int(((vehicle + 1) * location_per_vehicle) - 1)\n",
    "        sample_daily_order_nested.append(sample_daily_order_ordered[start:end])"
   ]
  },
  {
   "cell_type": "code",
   "execution_count": 14,
   "id": "bcbb913d-c6f1-4f08-8cd2-d9a61eceff5e",
   "metadata": {},
   "outputs": [
    {
     "data": {
      "text/plain": [
       "-6"
      ]
     },
     "execution_count": 14,
     "metadata": {},
     "output_type": "execute_result"
    }
   ],
   "source": [
    "0 - 15\n",
    "16 - 31\n",
    "32 - 47\n",
    "48 - 62\n",
    "63 - 79\n",
    "79 - 85"
   ]
  },
  {
   "cell_type": "code",
   "execution_count": 15,
   "id": "8819fa1d-7f49-44f0-8a9c-f33b0ad26b7a",
   "metadata": {},
   "outputs": [
    {
     "data": {
      "text/plain": [
       "[['10 woodlands terrace, singapore',\n",
       "  '334 sembawang close, singapore',\n",
       "  '118a canberra cres, singapore',\n",
       "  '848 yishun street 81, singapore',\n",
       "  '632 ang mo kio ave 4, singapore',\n",
       "  '631 ang mo kio avenue 4, singapore',\n",
       "  '505 ang mo kio street 53, singapore',\n",
       "  '530 ang mo kio avenue 10, singapore',\n",
       "  '339 ang mo kio ave 1, singapore',\n",
       "  '453 ang mo kio avenue 1, singapore',\n",
       "  '284 bishan street 22, singapore',\n",
       "  '511 bishan street 13, singapore',\n",
       "  '504 bishan street 13, singapore',\n",
       "  '210 toa payoh lorong 8, singapore',\n",
       "  '22a lorong 7 toa payoh, singapore',\n",
       "  '29 bendemeer road, singapore',\n",
       "  '17 upper boon keng road, singapore',\n",
       "  '116 aljunied, singapore',\n",
       "  '119 aljunied, singapore'],\n",
       " ['121 paya lebar way, singapore',\n",
       "  '3014 ubi road 1, singapore',\n",
       "  '210 hougang street 21, singapore',\n",
       "  'chomp chomp food centre, singapore',\n",
       "  '4 cardiff grove, singapore',\n",
       "  '631 hougang ave 8, singapore',\n",
       "  '682 hougang ave 8, singapore',\n",
       "  '923 hougang street 91, singapore',\n",
       "  '2 jalan selaseh, singapore',\n",
       "  '266 sengkang west avenue, singapore',\n",
       "  '350a anchorvale rd, singapore',\n",
       "  '356 hougang avenue 7, singapore',\n",
       "  '226d ang mo kio avenue 1, singapore',\n",
       "  '162 ang mo kio avenue 4, singapore',\n",
       "  '76 newton circus, singapore',\n",
       "  '90 whampoa drive, singapore',\n",
       "  '91 whampoa drive, singapore',\n",
       "  '146 silat road, singapore',\n",
       "  '2 bukit merah central, singapore'],\n",
       " ['abc brickworks, singapore',\n",
       "  '127 bukit merah lane 1, singapore',\n",
       "  '152 mei ling street, singapore',\n",
       "  '15b lor liput, singapore',\n",
       "  '20 ghim moh road market & food centre, singapore',\n",
       "  '19 ghim moh road, singapore',\n",
       "  '29 dover crescent, singapore',\n",
       "  'biomedical grove, singapore',\n",
       "  '354 clement ave 2, singapore',\n",
       "  '107a clementi street 12, singapore',\n",
       "  '433 clement ave 3, singapore',\n",
       "  '443 clementi ave 3, singapore',\n",
       "  '406 pandan gardens, singapore',\n",
       "  '134 jurnog gateway road, singapore',\n",
       "  '347 jurong east avenue 1, singapore',\n",
       "  '329 jurong east ave 1, singapore',\n",
       "  '498 jurong west street 41, singapore',\n",
       "  '449 jurong west street 42, singapore',\n",
       "  '640 bukit batok central, singapore'],\n",
       " ['273 bukit batok east avenue 4, singapore',\n",
       "  '271 bukit batok east ave 4, singapore',\n",
       "  '155 bukit batok street 31, singapore',\n",
       "  '156 bukit batok street 31, singapore',\n",
       "  '163 gangsaa road, singapore',\n",
       "  '276 bangkit road, singapore',\n",
       "  '686c choa chu kang cres, singapore',\n",
       "  '678 choa chu kang cres, singapore',\n",
       "  'beauty world centre, singapore',\n",
       "  '26 chai chee road, singapore',\n",
       "  '418 bedok north avenue 2, singapore',\n",
       "  '537 bedok north street 3, singapore',\n",
       "  '3016 bedok north avenue 4, singapore',\n",
       "  '77 bedok north road, singapore',\n",
       "  'bedok food centre, singapore',\n",
       "  '38 tampines street 11, singapore',\n",
       "  '107 tampines street 11, singapore',\n",
       "  '802 tampines avenue 4, singapore',\n",
       "  '823 tampines street 81, singapore'],\n",
       " ['58 bedok north street 3, singapore']]"
      ]
     },
     "execution_count": 15,
     "metadata": {},
     "output_type": "execute_result"
    }
   ],
   "source": [
    "sample_daily_order_nested"
   ]
  }
 ],
 "metadata": {
  "kernelspec": {
   "display_name": "Python 3 (ipykernel)",
   "language": "python",
   "name": "python3"
  },
  "language_info": {
   "codemirror_mode": {
    "name": "ipython",
    "version": 3
   },
   "file_extension": ".py",
   "mimetype": "text/x-python",
   "name": "python",
   "nbconvert_exporter": "python",
   "pygments_lexer": "ipython3",
   "version": "3.9.10"
  }
 },
 "nbformat": 4,
 "nbformat_minor": 5
}
