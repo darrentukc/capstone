{
 "cells": [
  {
   "cell_type": "code",
   "execution_count": 22,
   "id": "0dbbd055-2fb5-48da-9e2e-6d90dc510399",
   "metadata": {},
   "outputs": [],
   "source": [
    "import pandas as pd\n",
    "import numpy as np\n",
    "import requests\n",
    "import folium\n",
    "import polyline\n",
    "import urllib\n",
    "import matplotlib.pyplot as plt\n",
    "import seaborn as sns\n",
    "import time\n",
    "import math\n",
    "import json\n",
    "from branca.element import Figure\n",
    "from sklearn.cluster import KMeans\n",
    "from geopy import distance"
   ]
  },
  {
   "cell_type": "code",
   "execution_count": 23,
   "id": "da04aa05-d3bb-401d-b2ed-49a464645244",
   "metadata": {},
   "outputs": [],
   "source": [
    "df = pd.read_csv('../data/daily_order_df_clustered.csv')"
   ]
  },
  {
   "cell_type": "code",
   "execution_count": 24,
   "id": "775b2e61-f27a-4fbf-9953-7ef3e69da6c4",
   "metadata": {},
   "outputs": [],
   "source": [
    "original_df = df"
   ]
  },
  {
   "cell_type": "code",
   "execution_count": 25,
   "id": "5e796482-7153-465b-ba0b-46d9e80076fe",
   "metadata": {},
   "outputs": [],
   "source": [
    "# location to change\n",
    "\n",
    "to_change = '210 toa payoh lorong 8, singapore'"
   ]
  },
  {
   "cell_type": "code",
   "execution_count": 26,
   "id": "d6bfdcba-1482-4300-9cd9-a8980d670bf9",
   "metadata": {},
   "outputs": [
    {
     "data": {
      "text/plain": [
       "3"
      ]
     },
     "execution_count": 26,
     "metadata": {},
     "output_type": "execute_result"
    }
   ],
   "source": [
    "# get present cluster number\n",
    "\n",
    "present_cluster = df[df['Name'] == to_change]['cluster'].item()\n",
    "present_cluster"
   ]
  },
  {
   "cell_type": "code",
   "execution_count": 27,
   "id": "addd4394-43e8-43ae-aa9a-0c185d7914ac",
   "metadata": {},
   "outputs": [
    {
     "data": {
      "text/plain": [
       "999"
      ]
     },
     "execution_count": 27,
     "metadata": {},
     "output_type": "execute_result"
    }
   ],
   "source": [
    "# change cluster to 999\n",
    "\n",
    "to_change_index = df[df['Name'] == to_change]['cluster'].index[0]\n",
    "df.loc[to_change_index, 'cluster'] = 999\n",
    "df.loc[to_change_index, 'cluster']"
   ]
  },
  {
   "cell_type": "code",
   "execution_count": 28,
   "id": "1c6d8749-1427-4b67-9691-ffb4399400d0",
   "metadata": {},
   "outputs": [
    {
     "data": {
      "text/plain": [
       "array([  1,   2,   0, 999], dtype=int64)"
      ]
     },
     "execution_count": 28,
     "metadata": {},
     "output_type": "execute_result"
    }
   ],
   "source": [
    "# remove present cluster from df\n",
    "\n",
    "df = df[df['cluster'] != present_cluster]\n",
    "df['cluster'].unique()"
   ]
  },
  {
   "cell_type": "code",
   "execution_count": 29,
   "id": "e65882c2-bfa9-4115-98df-824fab4159cf",
   "metadata": {},
   "outputs": [],
   "source": [
    "# import distance matrix and concat\n",
    "\n",
    "distance_matrix = pd.read_csv('../data/distance_array.csv')\n",
    "\n",
    "df.set_index(keys = 'Name', inplace = True) # setting name as index\n",
    "distance_matrix.set_index(keys = 'Unnamed: 0', inplace = True) # setting name as index\n",
    "\n",
    "df = pd.concat([df, distance_matrix], axis=1).reindex(df.index)"
   ]
  },
  {
   "cell_type": "code",
   "execution_count": 30,
   "id": "0c6ec9f4-b638-4039-a85b-d870e3171960",
   "metadata": {},
   "outputs": [
    {
     "name": "stdout",
     "output_type": "stream",
     "text": [
      "116 aljunied, singapore\n"
     ]
    }
   ],
   "source": [
    "# nearest other cluster location\n",
    "\n",
    "nearest_other_cluster_location = df[to_change].sort_values().index[1]\n",
    "print(nearest_other_cluster_location)"
   ]
  },
  {
   "cell_type": "code",
   "execution_count": 31,
   "id": "241e65fd-4b01-4b3f-b107-f29d32d6c963",
   "metadata": {},
   "outputs": [
    {
     "name": "stdout",
     "output_type": "stream",
     "text": [
      "1\n"
     ]
    }
   ],
   "source": [
    "nearest_other_cluster = int(df.loc[nearest_other_cluster_location, 'cluster'])\n",
    "print(nearest_other_cluster)"
   ]
  },
  {
   "cell_type": "code",
   "execution_count": 32,
   "id": "4ee7866e-ed3e-498b-866d-c758c0e0f0c2",
   "metadata": {},
   "outputs": [],
   "source": [
    "# edit cluster in original_df\n",
    "\n",
    "to_change_index_2 = original_df[original_df['Name'] == to_change].index[0]\n",
    "original_df.loc[to_change_index_2, 'cluster'] = nearest_other_cluster"
   ]
  },
  {
   "cell_type": "code",
   "execution_count": 33,
   "id": "60535fb4-dd19-4c77-af7d-14e8e8d42ba8",
   "metadata": {},
   "outputs": [
    {
     "data": {
      "text/plain": [
       "1"
      ]
     },
     "execution_count": 33,
     "metadata": {},
     "output_type": "execute_result"
    }
   ],
   "source": [
    "original_df.loc[to_change_index_2, 'cluster']"
   ]
  },
  {
   "cell_type": "code",
   "execution_count": 34,
   "id": "ab3eebe1-bc1b-470e-b415-746a4a39b243",
   "metadata": {},
   "outputs": [],
   "source": [
    "original_df.to_csv('../data/daily_order_df_clustered.csv', index = False)"
   ]
  },
  {
   "cell_type": "code",
   "execution_count": 35,
   "id": "2f5562a1-3fca-45bd-a5e1-dcd781014d8e",
   "metadata": {},
   "outputs": [
    {
     "data": {
      "text/plain": [
       "'210 toa payoh lorong 8, singapore'"
      ]
     },
     "execution_count": 35,
     "metadata": {},
     "output_type": "execute_result"
    }
   ],
   "source": [
    "to_change"
   ]
  },
  {
   "cell_type": "code",
   "execution_count": 36,
   "id": "9b0d6918-c691-4b04-9436-75bb6823037c",
   "metadata": {},
   "outputs": [
    {
     "data": {
      "text/plain": [
       "3"
      ]
     },
     "execution_count": 36,
     "metadata": {},
     "output_type": "execute_result"
    }
   ],
   "source": [
    "present_cluster"
   ]
  },
  {
   "cell_type": "code",
   "execution_count": 37,
   "id": "ba47bd6f-5161-47a4-a1b7-e31258f590e6",
   "metadata": {},
   "outputs": [
    {
     "data": {
      "text/plain": [
       "1"
      ]
     },
     "execution_count": 37,
     "metadata": {},
     "output_type": "execute_result"
    }
   ],
   "source": [
    "nearest_other_cluster"
   ]
  },
  {
   "cell_type": "code",
   "execution_count": 38,
   "id": "4d77ee61-c622-4151-a949-4f42df2b1f05",
   "metadata": {},
   "outputs": [
    {
     "name": "stdout",
     "output_type": "stream",
     "text": [
      "Location to Change: 210 toa payoh lorong 8, singapore \n",
      "Present Cluster: 3 \n",
      "Nearest Other Cluster: 1\n"
     ]
    }
   ],
   "source": [
    "print(f'Location to Change: {to_change} \\nPresent Cluster: {present_cluster} \\nNearest Other Cluster: {nearest_other_cluster}')"
   ]
  }
 ],
 "metadata": {
  "kernelspec": {
   "display_name": "Python 3 (ipykernel)",
   "language": "python",
   "name": "python3"
  },
  "language_info": {
   "codemirror_mode": {
    "name": "ipython",
    "version": 3
   },
   "file_extension": ".py",
   "mimetype": "text/x-python",
   "name": "python",
   "nbconvert_exporter": "python",
   "pygments_lexer": "ipython3",
   "version": "3.9.10"
  }
 },
 "nbformat": 4,
 "nbformat_minor": 5
}
