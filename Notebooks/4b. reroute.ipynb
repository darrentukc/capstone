{
 "cells": [
  {
   "cell_type": "code",
   "execution_count": 1,
   "id": "0dbbd055-2fb5-48da-9e2e-6d90dc510399",
   "metadata": {},
   "outputs": [],
   "source": [
    "import pandas as pd\n",
    "import numpy as np\n",
    "import requests\n",
    "import folium\n",
    "import polyline\n",
    "import urllib\n",
    "import matplotlib.pyplot as plt\n",
    "import seaborn as sns\n",
    "import time\n",
    "import math\n",
    "import json\n",
    "from branca.element import Figure\n",
    "from sklearn.cluster import KMeans\n",
    "from geopy import distance"
   ]
  },
  {
   "cell_type": "code",
   "execution_count": 62,
   "id": "da04aa05-d3bb-401d-b2ed-49a464645244",
   "metadata": {},
   "outputs": [],
   "source": [
    "df = pd.read_csv('../data/daily_order_df_clustered.csv')"
   ]
  },
  {
   "cell_type": "code",
   "execution_count": 63,
   "id": "775b2e61-f27a-4fbf-9953-7ef3e69da6c4",
   "metadata": {},
   "outputs": [],
   "source": [
    "original_df = df"
   ]
  },
  {
   "cell_type": "code",
   "execution_count": 64,
   "id": "5e796482-7153-465b-ba0b-46d9e80076fe",
   "metadata": {},
   "outputs": [],
   "source": [
    "# location to change\n",
    "\n",
    "to_change = '210 toa payoh lorong 8, singapore'"
   ]
  },
  {
   "cell_type": "code",
   "execution_count": 65,
   "id": "d6bfdcba-1482-4300-9cd9-a8980d670bf9",
   "metadata": {},
   "outputs": [
    {
     "data": {
      "text/plain": [
       "3"
      ]
     },
     "execution_count": 65,
     "metadata": {},
     "output_type": "execute_result"
    }
   ],
   "source": [
    "# get present cluster number\n",
    "\n",
    "present_cluster = df[df['Name'] == to_change]['cluster'].item()\n",
    "present_cluster"
   ]
  },
  {
   "cell_type": "code",
   "execution_count": 66,
   "id": "addd4394-43e8-43ae-aa9a-0c185d7914ac",
   "metadata": {},
   "outputs": [
    {
     "data": {
      "text/plain": [
       "999"
      ]
     },
     "execution_count": 66,
     "metadata": {},
     "output_type": "execute_result"
    }
   ],
   "source": [
    "# change cluster to 999\n",
    "\n",
    "to_change_index = df[df['Name'] == to_change]['cluster'].index[0]\n",
    "df.loc[to_change_index, 'cluster'] = 999\n",
    "df.loc[to_change_index, 'cluster']"
   ]
  },
  {
   "cell_type": "code",
   "execution_count": 67,
   "id": "1c6d8749-1427-4b67-9691-ffb4399400d0",
   "metadata": {},
   "outputs": [
    {
     "data": {
      "text/plain": [
       "array([  1,   2,   0, 999], dtype=int64)"
      ]
     },
     "execution_count": 67,
     "metadata": {},
     "output_type": "execute_result"
    }
   ],
   "source": [
    "# remove present cluster from df\n",
    "\n",
    "df = df[df['cluster'] != present_cluster]\n",
    "df['cluster'].unique()"
   ]
  },
  {
   "cell_type": "code",
   "execution_count": 68,
   "id": "e65882c2-bfa9-4115-98df-824fab4159cf",
   "metadata": {},
   "outputs": [],
   "source": [
    "# import distance matrix and concat\n",
    "\n",
    "distance_matrix = pd.read_csv('../data/distance_array.csv')\n",
    "\n",
    "df.set_index(keys = 'Name', inplace = True) # setting name as index\n",
    "distance_matrix.set_index(keys = 'Unnamed: 0', inplace = True) # setting name as index\n",
    "\n",
    "df = pd.concat([df, distance_matrix], axis=1).reindex(df.index)"
   ]
  },
  {
   "cell_type": "code",
   "execution_count": 69,
   "id": "0c6ec9f4-b638-4039-a85b-d870e3171960",
   "metadata": {},
   "outputs": [
    {
     "name": "stdout",
     "output_type": "stream",
     "text": [
      "22a lorong 7 toa payoh, singapore\n"
     ]
    }
   ],
   "source": [
    "# nearest other cluster location\n",
    "\n",
    "nearest_other_cluster_location = df[to_change].sort_values().index[1]\n",
    "print(nearest_other_cluster_location)"
   ]
  },
  {
   "cell_type": "code",
   "execution_count": 70,
   "id": "241e65fd-4b01-4b3f-b107-f29d32d6c963",
   "metadata": {},
   "outputs": [
    {
     "name": "stdout",
     "output_type": "stream",
     "text": [
      "2\n"
     ]
    }
   ],
   "source": [
    "nearest_other_cluster = int(df.loc[nearest_other_cluster_location, 'cluster'])\n",
    "print(nearest_other_cluster)"
   ]
  },
  {
   "cell_type": "code",
   "execution_count": 71,
   "id": "4ee7866e-ed3e-498b-866d-c758c0e0f0c2",
   "metadata": {},
   "outputs": [],
   "source": [
    "# edit cluster in original_df\n",
    "\n",
    "to_change_index_2 = original_df[original_df['Name'] == to_change].index[0]\n",
    "original_df.loc[to_change_index_2, 'cluster'] = nearest_other_cluster"
   ]
  },
  {
   "cell_type": "code",
   "execution_count": 72,
   "id": "60535fb4-dd19-4c77-af7d-14e8e8d42ba8",
   "metadata": {},
   "outputs": [
    {
     "data": {
      "text/plain": [
       "2"
      ]
     },
     "execution_count": 72,
     "metadata": {},
     "output_type": "execute_result"
    }
   ],
   "source": [
    "original_df.loc[to_change_index_2, 'cluster']"
   ]
  },
  {
   "cell_type": "code",
   "execution_count": 73,
   "id": "ab3eebe1-bc1b-470e-b415-746a4a39b243",
   "metadata": {},
   "outputs": [],
   "source": [
    "original_df.to_csv('../data/daily_order_df_clustered.csv', index = False)"
   ]
  }
 ],
 "metadata": {
  "kernelspec": {
   "display_name": "Python 3 (ipykernel)",
   "language": "python",
   "name": "python3"
  },
  "language_info": {
   "codemirror_mode": {
    "name": "ipython",
    "version": 3
   },
   "file_extension": ".py",
   "mimetype": "text/x-python",
   "name": "python",
   "nbconvert_exporter": "python",
   "pygments_lexer": "ipython3",
   "version": "3.9.10"
  }
 },
 "nbformat": 4,
 "nbformat_minor": 5
}
